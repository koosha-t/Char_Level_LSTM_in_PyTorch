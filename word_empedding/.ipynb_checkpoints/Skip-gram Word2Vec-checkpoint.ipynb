{
 "cells": [
  {
   "cell_type": "markdown",
   "metadata": {},
   "source": [
    "### Loading Data"
   ]
  },
  {
   "cell_type": "code",
   "execution_count": 1,
   "metadata": {},
   "outputs": [],
   "source": [
    "with open(\"./data/text8\") as f:\n",
    "    text = f.read()"
   ]
  },
  {
   "cell_type": "code",
   "execution_count": 2,
   "metadata": {},
   "outputs": [
    {
     "data": {
      "text/plain": [
       "' anarchism originated as a term of abuse first used against early working class radicals including the diggers of the english revolution and the sans culottes of the french revolution whilst the term is still used in a pejorative way to describe any act that used violent means to destroy the organization of society it has also been taken up as a positive label by self defined anarchists the word anarchism is derived from the greek without archons ruler chief king anarchism as a political philosophy is the belief that rulers are unnecessary and should be abolished although there are differing interpretations of what this means anarchism also refers to related social movements that advocate the elimination of authoritarian institutions particularly the state the word anarchy as most anarchists use it does not imply chaos nihilism or anomie but rather a harmonious anti authoritarian society in place of what are regarded as authoritarian political structures and coercive economic instituti'"
      ]
     },
     "execution_count": 2,
     "metadata": {},
     "output_type": "execute_result"
    }
   ],
   "source": [
    "text[:1000]"
   ]
  },
  {
   "cell_type": "markdown",
   "metadata": {},
   "source": [
    "### PreProcessing"
   ]
  },
  {
   "cell_type": "code",
   "execution_count": null,
   "metadata": {},
   "outputs": [],
   "source": [
    "import re\n",
    "from collections import Counter\n",
    "\n",
    "class TextPreProcessor:\n",
    "    def __init__(self, text):\n",
    "        self.text = text.lower()\n",
    "        #Replacing punctuation with tokens\n",
    "        self.text = self.text.replace('.',' <PERIOD> ')\n",
    "        self.text = self.text.replace(',', ' <COMMA> ')\n",
    "        self.text = self.text.replace('\"', ' <QUOTATION_MARK> ')\n",
    "        self.text = self.text.replace(';', ' <SEMICOLON> ')\n",
    "        self.text = self.text.replace('!', ' <EXCLAMATION_MARK> ')\n",
    "        self.text = self.text.replace('?', ' <QUESTION_MARK> ')\n",
    "        self.text = self.text.replace('(', ' <LEFT_PAREN> ')\n",
    "        self.text = self.text.replace(')', ' <RIGHT_PAREN> ')\n",
    "        self.text = self.text.replace('--', ' <HYPHENS> ')\n",
    "        self.text = self.text.replace('?', ' <QUESTION_MARK> ')\n",
    "        self.text = self.text.replace(':', ' <COLON> ')\n",
    "        \n",
    "        self.words = self.text.split()\n",
    "        self.word_counts = Counter(words)\n",
    "        \n",
    "        \n",
    "    def get_trimmed_words(self, min_word_occ):\n",
    "        return [word for word in words if word_counts[word] > min_word_occ]\n",
    "    \n",
    "    \n",
    "    \n",
    "    "
   ]
  }
 ],
 "metadata": {
  "kernelspec": {
   "display_name": "Python 3",
   "language": "python",
   "name": "python3"
  },
  "language_info": {
   "codemirror_mode": {
    "name": "ipython",
    "version": 3
   },
   "file_extension": ".py",
   "mimetype": "text/x-python",
   "name": "python",
   "nbconvert_exporter": "python",
   "pygments_lexer": "ipython3",
   "version": "3.8.3"
  }
 },
 "nbformat": 4,
 "nbformat_minor": 4
}
